{
 "cells": [
  {
   "cell_type": "raw",
   "id": "ffb49818",
   "metadata": {},
   "source": [
    "#Road Network Model\n",
    "load_road_network(filename) that parses a file containing the road network information. It builds dictionaries representing intersections and roads, based on the provided data file structure."
   ]
  },
  {
   "cell_type": "code",
   "execution_count": 4,
   "id": "9add790e",
   "metadata": {},
   "outputs": [],
   "source": [
    "def load_road_network(filename):\n",
    "    intersections = {}\n",
    "    roads = {}\n",
    "\n",
    "    with open(filename, 'r') as file:\n",
    "        lines = file.readlines()\n",
    "\n",
    "        i = 0\n",
    "        while i < len(lines):\n",
    "            line = lines[i].strip()\n",
    "\n",
    "            if line.startswith('#Intersection:'):\n",
    "                intersection_id = int(line.split(':')[1])\n",
    "                signals = []\n",
    "\n",
    "                i += 1\n",
    "                while i < len(lines) and lines[i].strip().startswith('('):\n",
    "                    signal_pairs = lines[i].strip().split(';')\n",
    "                    signal = [(int(pair[1]), int(pair[3])) for pair in signal_pairs]\n",
    "                    signals.append(signal)\n",
    "                    i += 1\n",
    "\n",
    "                intersections[intersection_id] = signals\n",
    "\n",
    "            elif line == '#Roads':\n",
    "                i += 1\n",
    "                while i < len(lines) and lines[i].strip() != '':\n",
    "                    road_info = lines[i].strip().split(':')\n",
    "                    road = tuple(map(int, road_info[0][1:-1].split(',')))\n",
    "                    cost = int(road_info[1])\n",
    "                    roads[road] = cost\n",
    "                    i += 1\n",
    "\n",
    "            else:\n",
    "                i += 1\n",
    "\n",
    "    return intersections, roads\n"
   ]
  },
  {
   "cell_type": "code",
   "execution_count": 7,
   "id": "f2ac7ba8",
   "metadata": {},
   "outputs": [
    {
     "name": "stdout",
     "output_type": "stream",
     "text": [
      "{0: [], 1: [], 2: [], 3: []}\n",
      "{(0, 1): 1, (1, 0): 1, (0, 2): 2, (2, 0): 2, (0, 3): 1, (3, 0): 1, (1, 3): 2, (3, 1): 2, (2, 3): 1, (3, 2): 1, (2, 4): 1, (4, 2): 1}\n"
     ]
    }
   ],
   "source": [
    "filename = \"/Users/hridoy/Desktop/Fiverr DS code/dummy_road_network.txt\"\n",
    "intersections, roads = load_road_network(filename)\n",
    "print(intersections)\n",
    "print(roads)\n"
   ]
  },
  {
   "cell_type": "raw",
   "id": "f0271873",
   "metadata": {},
   "source": [
    "Travel Time Calculation: Implemented the function path_cost(path, intersections, road_times) to calculate the travel time of a vehicle through the road network. It determines whether a vehicle can traverse a given path without being stopped at any intersections and returns the total number of timesteps taken if possible."
   ]
  },
  {
   "cell_type": "code",
   "execution_count": 9,
   "id": "c262b89d",
   "metadata": {},
   "outputs": [],
   "source": [
    "def path_cost(path, intersections, road_times):\n",
    "    total_cost = 0\n",
    "\n",
    "    for i in range(len(path) - 1):\n",
    "        start_node = path[i]\n",
    "        end_node = path[i+1]\n",
    "\n",
    "        if start_node in intersections and end_node in intersections:\n",
    "            signals = intersections[start_node]\n",
    "            road = (start_node, end_node)\n",
    "\n",
    "            # Check if the road exists in the road_times dictionary\n",
    "            if road not in road_times:\n",
    "                return None\n",
    "\n",
    "            cost = road_times[road]\n",
    "\n",
    "            # Check if there are traffic signals at the start_node\n",
    "            if signals:\n",
    "                # Check if there is a signal that allows the road traversal\n",
    "                if road in signals[total_cost % len(signals)]:\n",
    "                    total_cost += cost\n",
    "                else:\n",
    "                    return None\n",
    "            else:\n",
    "                total_cost += cost\n",
    "\n",
    "        else:\n",
    "            return None\n",
    "\n",
    "    return total_cost\n"
   ]
  },
  {
   "cell_type": "code",
   "execution_count": 36,
   "id": "3729b5fc",
   "metadata": {},
   "outputs": [
    {
     "name": "stdout",
     "output_type": "stream",
     "text": [
      "None\n"
     ]
    }
   ],
   "source": [
    "simple_intersections = {0: [[], [(1, 2), (2, 1)]]}\n",
    "simple_roads = {(0, 1): 1, (1, 0): 1, (0, 2): 1, (2, 0): 1}\n",
    "\n",
    "path = [1, 0, 2]\n",
    "cost = path_cost(path, simple_intersections, simple_roads)\n",
    "print(cost)\n"
   ]
  },
  {
   "cell_type": "raw",
   "id": "579c0a21",
   "metadata": {},
   "source": [
    "Intersection Analysis: Develope the function intersection_step(intersections, road_times, intersection_id, cars_at_intersection, timestep). It processes a single step through time at a given intersection, identifying which vehicles can pass through the intersection at the current timestep based on their arrival times."
   ]
  },
  {
   "cell_type": "code",
   "execution_count": 16,
   "id": "e1e78e2d",
   "metadata": {},
   "outputs": [],
   "source": [
    "def intersection_step(intersections, road_times, intersection_id, cars_at_intersection, timestep):\n",
    "    intersection_signals = intersections[intersection_id]\n",
    "    signals_count = len(intersection_signals)\n",
    "\n",
    "    cars_to_move = []\n",
    "\n",
    "    for car_id, path, arrival_time in cars_at_intersection:\n",
    "        if len(path) > signals_count:\n",
    "            signal = intersection_signals[len(path) - signals_count - 1]\n",
    "            if arrival_time <= timestep and signal in path[-signals_count:]:\n",
    "                cars_to_move.append(car_id)\n",
    "\n",
    "    cars_to_move.sort()\n",
    "    return cars_to_move\n"
   ]
  },
  {
   "cell_type": "code",
   "execution_count": 18,
   "id": "7eea2d0b",
   "metadata": {},
   "outputs": [
    {
     "name": "stdout",
     "output_type": "stream",
     "text": [
      "[]\n"
     ]
    }
   ],
   "source": [
    "simple_intersections = {0: [[], [(1, 2), (2, 1)]]}\n",
    "simple_roads = {(0, 1): 1, (1, 0): 1, (0, 2): 1, (2, 0): 1}\n",
    "cars_at_intersection = [(0, [1, 0, 2], 1), (1, [2, 0, 1], 1)]\n",
    "\n",
    "cars_to_move = intersection_step(simple_intersections, simple_roads, 0, cars_at_intersection, 1)\n",
    "print(cars_to_move)\n"
   ]
  },
  {
   "cell_type": "raw",
   "id": "e1dd4a77",
   "metadata": {},
   "source": [
    "#Traffic Simulation: Created the function simulate(intersections, road_times, cars_to_add) to simulate the movement of vehicles through the road network. The function tracks the position of each vehicle at each timestep, starting from timestep 0, and returns a list of actions representing what each car is doing at each timestep."
   ]
  },
  {
   "cell_type": "code",
   "execution_count": 32,
   "id": "90b029c9",
   "metadata": {},
   "outputs": [],
   "source": [
    "def simulate(intersections, road_times, cars_to_add):\n",
    "    actions = []\n",
    "    cars_in_network = []\n",
    "\n",
    "    timestep = 0\n",
    "\n",
    "    while cars_to_add or cars_in_network:\n",
    "        # Add new cars to the network\n",
    "        while cars_to_add and cars_to_add[0][2] == timestep:\n",
    "            car_id, path, _ = cars_to_add.pop(0)\n",
    "            cars_in_network.append((car_id, path, 0))\n",
    "\n",
    "        # Process intersection steps\n",
    "        for intersection_id in intersections.keys():\n",
    "            cars_at_intersection = [(car_id, path, step) for car_id, path, step in cars_in_network if intersection_id in path and step < len(path) - 1]\n",
    "            cars_to_move = intersection_step(intersections, road_times, intersection_id, cars_at_intersection, timestep)\n",
    "\n",
    "            for car_id in cars_to_move:\n",
    "                car_index = next(index for index, (id, _, _) in enumerate(cars_in_network) if id == car_id)\n",
    "                car = cars_in_network.pop(car_index)\n",
    "                source_node = car[1][car[2]]\n",
    "                destination_node = car[1][car[2] + 1]\n",
    "                actions.append(f\"drive({timestep}, {car_id}, {source_node}, {destination_node})\")\n",
    "                car = (car[0], car[1], car[2] + 1)\n",
    "                cars_in_network.append(car)\n",
    "\n",
    "        # Process driving and arrival\n",
    "        driving_cars = []\n",
    "        for index, car in enumerate(cars_in_network):\n",
    "            source_node = car[1][car[2]]\n",
    "            destination_node = car[1][car[2] + 1]\n",
    "            travel_time = road_times[(source_node, destination_node)]\n",
    "            if car[2] == len(car[1]) - 2:\n",
    "                actions.append(f\"arrive({timestep+travel_time}, {car[0]}, {destination_node})\")\n",
    "            else:\n",
    "                actions.append(f\"drive({timestep}, {car[0]}, {source_node}, {destination_node})\")\n",
    "                driving_cars.append((car[0], car[1], car[2]+1))\n",
    "\n",
    "        cars_in_network = driving_cars\n",
    "\n",
    "        timestep += 1\n",
    "\n",
    "    return actions\n"
   ]
  },
  {
   "cell_type": "code",
   "execution_count": 33,
   "id": "5db47718",
   "metadata": {},
   "outputs": [
    {
     "name": "stdout",
     "output_type": "stream",
     "text": [
      "['drive(0, 0, 1, 0)', 'arrive(2, 0, 2)']\n"
     ]
    }
   ],
   "source": [
    "simple_intersections = {0: [[], [(1, 2), (2, 1)]]}\n",
    "simple_roads = {(0, 1): 1, (1, 0): 1, (0, 2): 1, (2, 0): 1}\n",
    "cars_to_add = [(0, [1, 0, 2], 0)]\n",
    "\n",
    "actions = simulate(simple_intersections, simple_roads, cars_to_add)\n",
    "print(actions)\n"
   ]
  },
  {
   "cell_type": "code",
   "execution_count": 34,
   "id": "781307db",
   "metadata": {},
   "outputs": [],
   "source": [
    "def test_simulate(input_args, expected_return_value):\n",
    "    result = simulate(*input_args)\n",
    "    assert result == expected_return_value, f\"Expected {expected_return_value}, but got {result}\"\n"
   ]
  },
  {
   "cell_type": "code",
   "execution_count": 31,
   "id": "caa0f94c",
   "metadata": {},
   "outputs": [
    {
     "ename": "AssertionError",
     "evalue": "Expected ['drive(0, 0, 1, 0)', 'drive(1, 0, 0, 2)', 'arrive(2, 0, 2)', 'drive(2, 1, 2, 0)', 'drive(3, 1, 0, 1)', 'arrive(4, 1, 1)'], but got ['drive(0, 0, 1, 0)', 'arrive(2, 0, 2)', 'drive(1, 1, 2, 0)', 'arrive(3, 1, 1)']",
     "output_type": "error",
     "traceback": [
      "\u001b[0;31m---------------------------------------------------------------------------\u001b[0m",
      "\u001b[0;31mAssertionError\u001b[0m                            Traceback (most recent call last)",
      "\u001b[0;32m/var/folders/tz/3wl_wg3n291_ymhlzngnlnzr0000gn/T/ipykernel_5591/881078004.py\u001b[0m in \u001b[0;36m<module>\u001b[0;34m\u001b[0m\n\u001b[1;32m     17\u001b[0m     \u001b[0;34m'arrive(4, 1, 1)'\u001b[0m\u001b[0;34m\u001b[0m\u001b[0;34m\u001b[0m\u001b[0m\n\u001b[1;32m     18\u001b[0m ]\n\u001b[0;32m---> 19\u001b[0;31m \u001b[0mtest_simulate\u001b[0m\u001b[0;34m(\u001b[0m\u001b[0;34m(\u001b[0m\u001b[0mintersections\u001b[0m\u001b[0;34m,\u001b[0m \u001b[0mroad_times\u001b[0m\u001b[0;34m,\u001b[0m \u001b[0mcars_to_add\u001b[0m\u001b[0;34m)\u001b[0m\u001b[0;34m,\u001b[0m \u001b[0mexpected_actions\u001b[0m\u001b[0;34m)\u001b[0m\u001b[0;34m\u001b[0m\u001b[0;34m\u001b[0m\u001b[0m\n\u001b[0m",
      "\u001b[0;32m/var/folders/tz/3wl_wg3n291_ymhlzngnlnzr0000gn/T/ipykernel_5591/3375223611.py\u001b[0m in \u001b[0;36mtest_simulate\u001b[0;34m(input_args, expected_return_value)\u001b[0m\n\u001b[1;32m      1\u001b[0m \u001b[0;32mdef\u001b[0m \u001b[0mtest_simulate\u001b[0m\u001b[0;34m(\u001b[0m\u001b[0minput_args\u001b[0m\u001b[0;34m,\u001b[0m \u001b[0mexpected_return_value\u001b[0m\u001b[0;34m)\u001b[0m\u001b[0;34m:\u001b[0m\u001b[0;34m\u001b[0m\u001b[0;34m\u001b[0m\u001b[0m\n\u001b[1;32m      2\u001b[0m     \u001b[0mresult\u001b[0m \u001b[0;34m=\u001b[0m \u001b[0msimulate\u001b[0m\u001b[0;34m(\u001b[0m\u001b[0;34m*\u001b[0m\u001b[0minput_args\u001b[0m\u001b[0;34m)\u001b[0m\u001b[0;34m\u001b[0m\u001b[0;34m\u001b[0m\u001b[0m\n\u001b[0;32m----> 3\u001b[0;31m     \u001b[0;32massert\u001b[0m \u001b[0mresult\u001b[0m \u001b[0;34m==\u001b[0m \u001b[0mexpected_return_value\u001b[0m\u001b[0;34m,\u001b[0m \u001b[0;34mf\"Expected {expected_return_value}, but got {result}\"\u001b[0m\u001b[0;34m\u001b[0m\u001b[0;34m\u001b[0m\u001b[0m\n\u001b[0m",
      "\u001b[0;31mAssertionError\u001b[0m: Expected ['drive(0, 0, 1, 0)', 'drive(1, 0, 0, 2)', 'arrive(2, 0, 2)', 'drive(2, 1, 2, 0)', 'drive(3, 1, 0, 1)', 'arrive(4, 1, 1)'], but got ['drive(0, 0, 1, 0)', 'arrive(2, 0, 2)', 'drive(1, 1, 2, 0)', 'arrive(3, 1, 1)']"
     ]
    }
   ],
   "source": [
    "# Test Case 1\n",
    "intersections = {\n",
    "    0: [[], [(1, 2), (2, 1)]],\n",
    "    1: [[(2, 0)], []]\n",
    "}\n",
    "road_times = {(0, 1): 1, (1, 0): 1, (0, 2): 1, (2, 0): 1}\n",
    "cars_to_add = [\n",
    "    (0, [1, 0, 2], 0),\n",
    "    (1, [2, 0, 1], 1)\n",
    "]\n",
    "expected_actions = [\n",
    "    'drive(0, 0, 1, 0)',\n",
    "    'drive(1, 0, 0, 2)',\n",
    "    'arrive(2, 0, 2)',\n",
    "    'drive(2, 1, 2, 0)',\n",
    "    'drive(3, 1, 0, 1)',\n",
    "    'arrive(4, 1, 1)'\n",
    "]\n",
    "test_simulate((intersections, road_times, cars_to_add), expected_actions)\n"
   ]
  }
 ],
 "metadata": {
  "kernelspec": {
   "display_name": "Python 3 (ipykernel)",
   "language": "python",
   "name": "python3"
  },
  "language_info": {
   "codemirror_mode": {
    "name": "ipython",
    "version": 3
   },
   "file_extension": ".py",
   "mimetype": "text/x-python",
   "name": "python",
   "nbconvert_exporter": "python",
   "pygments_lexer": "ipython3",
   "version": "3.9.13"
  }
 },
 "nbformat": 4,
 "nbformat_minor": 5
}
